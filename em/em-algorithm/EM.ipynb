{
 "cells": [
  {
   "cell_type": "markdown",
   "metadata": {},
   "source": [
    "# EM-algorithm"
   ]
  },
  {
   "cell_type": "code",
   "execution_count": 2,
   "metadata": {},
   "outputs": [],
   "source": [
    "from scipy.stats import multivariate_normal\n",
    "from scipy.stats import laplace\n",
    "from matplotlib import pyplot\n",
    "from tqdm import tqdm_notebook as tqdm\n",
    "\n",
    "import numpy as np\n",
    "%matplotlib notebook\n",
    "\n",
    "INITIAL_VARIANCE = 1"
   ]
  },
  {
   "cell_type": "markdown",
   "metadata": {},
   "source": [
    "## 1. Normal distribution"
   ]
  },
  {
   "cell_type": "code",
   "execution_count": 3,
   "metadata": {},
   "outputs": [],
   "source": [
    "def calculate_identifiers(points, weights, means):\n",
    "    probabilities = np.array([np.array([multivariate_normal.pdf(points[i], means[j])\n",
    "                                        for j in range(0, means.shape[0])])\n",
    "                              for i in range(0, points.shape[0])])\n",
    "\n",
    "    return np.array([np.array([weights[j] * probabilities[i][j] / np.sum(probabilities[i].dot(weights))\n",
    "                               for j in range(0, means.shape[0])]).argmax()\n",
    "                     for i in range(0, points.shape[0])])"
   ]
  },
  {
   "cell_type": "code",
   "execution_count": 4,
   "metadata": {},
   "outputs": [],
   "source": [
    "def calculate_parameters(points, identifiers, class_count):\n",
    "    sums = np.zeros((class_count, 1))\n",
    "    for i in identifiers:\n",
    "        sums[i] += 1\n",
    "    weights = sums / points.shape[0]\n",
    "\n",
    "    means = np.zeros((class_count, points.shape[1]))\n",
    "    for i in range(0, points.shape[0]):\n",
    "        means[identifiers[i]] += points[i]\n",
    "    means = means / sums\n",
    "\n",
    "    return weights, means"
   ]
  },
  {
   "cell_type": "code",
   "execution_count": 5,
   "metadata": {},
   "outputs": [],
   "source": [
    "def find_classes(points, class_count, iterations = 10):\n",
    "    means = np.copy(points[:class_count])\n",
    "    variances = np.full((class_count, points.shape[1]), INITIAL_VARIANCE)\n",
    "    weights = np.full((class_count), 1 / class_count)\n",
    "\n",
    "    for i in tqdm(range(iterations)):\n",
    "        identifiers = calculate_identifiers(points, weights, means)\n",
    "        weights, means = calculate_parameters(points, identifiers, class_count)\n",
    "\n",
    "    return points, identifiers"
   ]
  },
  {
   "cell_type": "markdown",
   "metadata": {},
   "source": [
    "## 2. Laplase with Euclidian or Manhattan metric"
   ]
  },
  {
   "cell_type": "markdown",
   "metadata": {},
   "source": [
    "#### Euclidian metric"
   ]
  },
  {
   "cell_type": "code",
   "execution_count": 6,
   "metadata": {},
   "outputs": [],
   "source": [
    "def metric(x, y):\n",
    "    return ((x[0] - y[0]) ** 2 + (x[1] - y[1]) ** 2) ** 0.5"
   ]
  },
  {
   "cell_type": "markdown",
   "metadata": {},
   "source": [
    "#### Manhattan metric"
   ]
  },
  {
   "cell_type": "code",
   "execution_count": 7,
   "metadata": {},
   "outputs": [],
   "source": [
    "def metric(x, y):\n",
    "    return abs(x[0]-y[0]) + abs(x[1]-y[1])"
   ]
  },
  {
   "cell_type": "markdown",
   "metadata": {},
   "source": [
    "#### Main"
   ]
  },
  {
   "cell_type": "code",
   "execution_count": 8,
   "metadata": {},
   "outputs": [],
   "source": [
    "def calculate_identifiers(points, weights, means):\n",
    "    probabilities = np.array([np.array([laplace.pdf(metric(points[i], means[j]))  \n",
    "                                        for j in range(0, means.shape[0])])\n",
    "                              for i in range(0, points.shape[0])])\n",
    "\n",
    "    return np.array([np.array([weights[j] * probabilities[i][j] / np.sum(probabilities[i].dot(weights))\n",
    "                               for j in range(0, means.shape[0])]).argmax()\n",
    "                     for i in range(0, points.shape[0])])"
   ]
  },
  {
   "cell_type": "code",
   "execution_count": 9,
   "metadata": {},
   "outputs": [],
   "source": [
    "def calculate_parameters(points, identifiers, class_count):\n",
    "    sums = np.zeros((class_count, 1))\n",
    "    for i in identifiers:\n",
    "        sums[i] += 1\n",
    "    weights = sums / points.shape[0]\n",
    "\n",
    "    means = np.zeros((class_count, points.shape[1]))\n",
    "    for i in range(0, points.shape[0]):\n",
    "        means[identifiers[i]] += points[i]\n",
    "    means = means / sums\n",
    "\n",
    "    return weights, means"
   ]
  },
  {
   "cell_type": "code",
   "execution_count": 10,
   "metadata": {},
   "outputs": [],
   "source": [
    "def find_classes(points, class_count, iterations = 10):\n",
    "    means = np.copy(points[:class_count])\n",
    "    variances = np.full((class_count, points.shape[1]), INITIAL_VARIANCE)\n",
    "    weights = np.full((class_count), 1 / class_count)\n",
    "\n",
    "    for i in tqdm(range(iterations)):\n",
    "        identifiers = calculate_identifiers(points, weights, means)\n",
    "        weights, means = calculate_parameters(points, identifiers, class_count)\n",
    "\n",
    "    return points, identifiers"
   ]
  },
  {
   "cell_type": "markdown",
   "metadata": {},
   "source": [
    "## Reading files and test functions"
   ]
  },
  {
   "cell_type": "code",
   "execution_count": 11,
   "metadata": {},
   "outputs": [],
   "source": [
    "def read_values(filename):\n",
    "    _data = None\n",
    "    _types = None\n",
    "    with open(filename) as file:\n",
    "        for line in file:\n",
    "            args = np.array(list(map(lambda x: float(x), filter(lambda x: x is not '', line.strip().split(' ')))))\n",
    "            if _data is None:\n",
    "                _data = np.array(args[:-1])\n",
    "                _types = np.array(args[-1])\n",
    "            else:\n",
    "                _data = np.vstack([_data, args[:-1]])\n",
    "                _types = np.vstack([_types, args[-1]])\n",
    "    return _data, _types"
   ]
  },
  {
   "cell_type": "code",
   "execution_count": 12,
   "metadata": {},
   "outputs": [],
   "source": [
    "def test_separated_2():\n",
    "    data, types = read_values(\"datasets/separated_2.txt\")\n",
    "\n",
    "    pyplot.subplot(121)\n",
    "    pyplot.title('Initial')\n",
    "    pyplot.scatter(data[:, 0], data[:, 1], c=types[:, 0])\n",
    "\n",
    "    # print(data)\n",
    "    data, types = find_classes(data, 2)\n",
    "    pyplot.subplot(122)\n",
    "    pyplot.title('Generated')\n",
    "    pyplot.scatter(data[:, 0], data[:, 1], c=types)\n",
    "    pyplot.show()"
   ]
  },
  {
   "cell_type": "code",
   "execution_count": 13,
   "metadata": {},
   "outputs": [],
   "source": [
    "def test_separated_10():\n",
    "    data, types = read_values(\"datasets/separated_10.txt\")\n",
    "\n",
    "    pyplot.subplot(121)\n",
    "    pyplot.title('Initial')\n",
    "    pyplot.scatter(data[:, 0], data[:, 1], c=types[:, 0])\n",
    "\n",
    "    # print(data)\n",
    "    data, types = find_classes(data, 10)\n",
    "    pyplot.subplot(122)\n",
    "    pyplot.title('Generated')\n",
    "    pyplot.scatter(data[:, 0], data[:, 1], c=types)\n",
    "    pyplot.show()"
   ]
  },
  {
   "cell_type": "code",
   "execution_count": 14,
   "metadata": {},
   "outputs": [],
   "source": [
    "def test_intercepted_7():\n",
    "    data, types = read_values(\"datasets/intercepted_7.txt\")\n",
    "    pyplot.subplot(121)\n",
    "    pyplot.title('Initial')\n",
    "    pyplot.scatter(data[:, 0], data[:, 1], c=types[:, 0])\n",
    "    # print(data)\n",
    "    data, types = find_classes(data, 7)\n",
    "    pyplot.subplot(122)\n",
    "    pyplot.title('Generated')\n",
    "    pyplot.scatter(data[:, 0], data[:, 1], c=types)\n",
    "    pyplot.show()"
   ]
  },
  {
   "cell_type": "code",
   "execution_count": 15,
   "metadata": {},
   "outputs": [
    {
     "data": {
      "application/vnd.jupyter.widget-view+json": {
       "model_id": "c54d711049c941fba058dc9df08040d8",
       "version_major": 2,
       "version_minor": 0
      },
      "text/html": [
       "<p>Failed to display Jupyter Widget of type <code>HBox</code>.</p>\n",
       "<p>\n",
       "  If you're reading this message in the Jupyter Notebook or JupyterLab Notebook, it may mean\n",
       "  that the widgets JavaScript is still loading. If this message persists, it\n",
       "  likely means that the widgets JavaScript library is either not installed or\n",
       "  not enabled. See the <a href=\"https://ipywidgets.readthedocs.io/en/stable/user_install.html\">Jupyter\n",
       "  Widgets Documentation</a> for setup instructions.\n",
       "</p>\n",
       "<p>\n",
       "  If you're reading this message in another frontend (for example, a static\n",
       "  rendering on GitHub or <a href=\"https://nbviewer.jupyter.org/\">NBViewer</a>),\n",
       "  it may mean that your frontend doesn't currently support widgets.\n",
       "</p>\n"
      ],
      "text/plain": [
       "HBox(children=(IntProgress(value=0, max=10), HTML(value='')))"
      ]
     },
     "metadata": {},
     "output_type": "display_data"
    },
    {
     "name": "stderr",
     "output_type": "stream",
     "text": [
      "/Users/razumov/anaconda3/lib/python3.6/site-packages/tqdm/_monitor.py:89: TqdmSynchronisationWarning: Set changed size during iteration (see https://github.com/tqdm/tqdm/issues/481)\n",
      "  TqdmSynchronisationWarning)\n"
     ]
    },
    {
     "name": "stdout",
     "output_type": "stream",
     "text": [
      "\n"
     ]
    },
    {
     "data": {
      "image/png": "[encoded data removed]",
      "text/plain": [
       "<matplotlib.figure.Figure at 0x11195c358>"
      ]
     },
     "metadata": {},
     "output_type": "display_data"
    }
   ],
   "source": [
    "test_intercepted_7()"
   ]
  },
  {
   "cell_type": "code",
   "execution_count": null,
   "metadata": {},
   "outputs": [],
   "source": []
  }
 ],
 "metadata": {
  "kernelspec": {
   "display_name": "Python 3",
   "language": "python",
   "name": "python3"
  },
  "language_info": {
   "codemirror_mode": {
    "name": "ipython",
    "version": 3
   },
   "file_extension": ".py",
   "mimetype": "text/x-python",
   "name": "python",
   "nbconvert_exporter": "python",
   "pygments_lexer": "ipython3",
   "version": "3.6.4"
  }
 },
 "nbformat": 4,
 "nbformat_minor": 2
}
